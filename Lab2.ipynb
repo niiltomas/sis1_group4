{
  "cells": [
    {
      "cell_type": "markdown",
      "metadata": {
        "id": "view-in-github",
        "colab_type": "text"
      },
      "source": [
        "<a href=\"https://colab.research.google.com/github/niiltomas/sis1_group4/blob/main/Lab2.ipynb\" target=\"_parent\"><img src=\"https://colab.research.google.com/assets/colab-badge.svg\" alt=\"Open In Colab\"/></a>"
      ]
    },
    {
      "cell_type": "markdown",
      "metadata": {
        "id": "7FEkSsqqPhe2"
      },
      "source": [
        "### **Lab 2: Introduction to Complex Exponentials**\n",
        "\n",
        "The goal of this laboratory is to gain familiarity with complex numbers and their use in representing sinusoidal signals as complex exponentials.\n",
        "\n",
        "**Complex Numbers in Python**\n",
        "\n",
        "\n",
        "Python can be used to compute complex-valued formulas and also to display the results as a vector or “phasor” diagrams.\n",
        "\n",
        "Here are some of numpy package complex number functions (remember to import package):\n",
        "\n",
        "*conj ()*       Complex conjugate\n",
        "\n",
        "*abs ()*        Magnitude\n",
        "\n",
        "*angle ()*      Angle (or phase) in radians\n",
        "\n",
        "*real ()*       Real part\n",
        "\n",
        "*imag ()*       Imaginary part\n",
        "*j *        pre-defined as <math>&radic;-1</math>\n",
        "\n",
        "*x = 3 + 4j*    j sufix defines imaginary constant\n",
        "\n",
        "exp(1j<math>*</math>theta)  Function for the complex exponential\n",
        "\n",
        "Each of these functions takes a vector (or matrix) as its input argument and operates on each element of the vector.\n",
        "\n",
        "To display a complex number as a point in the complex plane you can directly use the provided function `plot_complex`. It can take a single number or a list of complex numbers as input. For instance, to display the complex number 2+1j:"
      ]
    },
    {
      "cell_type": "code",
      "execution_count": null,
      "metadata": {
        "colab": {
          "background_save": true
        },
        "id": "uvmioytcPgyZ"
      },
      "outputs": [],
      "source": [
        "!git clone https://github.com/pzinemanas/sis1lab.git\n",
        "\n",
        "import numpy as np\n",
        "from IPython.display import Audio\n",
        "\n",
        "from sis1lab.util import load_audio, save_audio, plot_signals, plot_complex"
      ]
    },
    {
      "cell_type": "code",
      "execution_count": null,
      "metadata": {
        "id": "t_Yo8e9yPvT6"
      },
      "outputs": [],
      "source": [
        "z = 2 + 1j\n",
        "plot_complex(z)"
      ]
    },
    {
      "cell_type": "markdown",
      "metadata": {
        "id": "spPME9dPQcnu"
      },
      "source": [
        "And for displaying several complex numbers:"
      ]
    },
    {
      "cell_type": "code",
      "execution_count": null,
      "metadata": {
        "id": "kCCRfQrhQhGU"
      },
      "outputs": [],
      "source": [
        "z1 = 2 + 1j\n",
        "z2 = 1j\n",
        "z3 = -0.5j\n",
        "plot_complex([z1, z2, z3], name=['z1', 'z2', 'z3'])"
      ]
    },
    {
      "cell_type": "markdown",
      "metadata": {
        "id": "aOfR7uusRA13"
      },
      "source": [
        "# **Exercises**\n",
        "\n",
        "**1. Complex Numbers**\n",
        "\n",
        "To exercise your understanding of complex numbers, do the following:\n",
        "\n",
        "1.1. Define $z_1 = -1+j0.3$ and $z_2 = 0.8+j0.7$. Enter these in Python and plot them as points and vectors in the complex plane."
      ]
    },
    {
      "cell_type": "code",
      "execution_count": null,
      "metadata": {
        "id": "oGUfC_09QFHN"
      },
      "outputs": [],
      "source": []
    },
    {
      "cell_type": "markdown",
      "metadata": {
        "id": "HI6f-fu7KD5a"
      },
      "source": [
        "1.2. Compute the conjugate z* and the inverse 1/z for both $z_1$ and $z_2$ and plot the results as vectors in the complex plane."
      ]
    },
    {
      "cell_type": "code",
      "execution_count": null,
      "metadata": {
        "id": "Novsdl6JRX7z"
      },
      "outputs": [],
      "source": []
    },
    {
      "cell_type": "markdown",
      "metadata": {
        "id": "gjPVdnvuKD06"
      },
      "source": [
        "**2. Complex Exponentials**\n",
        "\n",
        "Now let's work with complex exponentials. In python is very easy to work with these type of signals:"
      ]
    },
    {
      "cell_type": "code",
      "execution_count": null,
      "metadata": {
        "id": "kjkqiEqriy6R"
      },
      "outputs": [],
      "source": [
        "A = 0.8\n",
        "f0 = 120\n",
        "fs = 44100\n",
        "phi = np.pi/2\n",
        "t = np.arange(0, .1, 1.0/fs)\n",
        "x = A * np.exp(1j*(2*f0*np.pi*t + phi))"
      ]
    },
    {
      "cell_type": "markdown",
      "metadata": {
        "id": "uUmIGLWyi9Wg"
      },
      "source": [
        "Now we can plot the real and imaginary part of this signal:\n"
      ]
    },
    {
      "cell_type": "code",
      "execution_count": null,
      "metadata": {
        "id": "3qRWzLQ4i86e"
      },
      "outputs": [],
      "source": [
        "plot_signals([np.real(x), np.imag(x)], fs, name=['real part', 'imag part'])"
      ]
    },
    {
      "cell_type": "markdown",
      "metadata": {
        "id": "WbmSTmpIkU9B"
      },
      "source": [
        "2.1. Define a complex exponential with the same parameters that those from Lab 1 (Ex 3.1) and plot the real part."
      ]
    },
    {
      "cell_type": "code",
      "execution_count": null,
      "metadata": {
        "id": "o3o5lc6WkTId"
      },
      "outputs": [],
      "source": [
        "# Write the code here"
      ]
    },
    {
      "cell_type": "markdown",
      "metadata": {
        "id": "bU3RpE-gxOtj"
      },
      "source": [
        "**3. Harmonic signals**\n",
        "\n",
        "Now, we will work with harmonic signals. Until now, we have been working with simple sinusoids signals but most musical instruments sounds are harmonic. This means that they are formed by a sinusoid of the fundamental frequency plus sinusoids with frequencies multiples of it. For instance, we can define the following signal formed by the fundamental frequency plus the second and the third harmonic (note that each wave has a different phase).\n",
        "\n"
      ]
    },
    {
      "cell_type": "code",
      "execution_count": null,
      "metadata": {
        "id": "eDMUef8nyASj"
      },
      "outputs": [],
      "source": [
        "f0 = 120\n",
        "fs = 44100\n",
        "phi = np.pi/2\n",
        "t = np.arange(0, .1, 1.0/fs)\n",
        "x = 1.1*np.cos(2*np.pi*f0*t + np.pi/2) + 0.8*np.cos(2*np.pi*2*f0*t) + 0.2*np.cos(2*np.pi*3*f0*t)\n",
        "plot_signals(x, fs)"
      ]
    },
    {
      "cell_type": "markdown",
      "metadata": {
        "id": "33AJ43U-yuv6"
      },
      "source": [
        "3.1. Load your reference audio signal and plot some periods (5-10) where the amplitude is stable. For instance see Ex. 2.3 from Lab 1."
      ]
    },
    {
      "cell_type": "code",
      "execution_count": null,
      "metadata": {
        "id": "KRd70D8Ayt26"
      },
      "outputs": [],
      "source": [
        "# Write the code here"
      ]
    },
    {
      "cell_type": "markdown",
      "metadata": {
        "id": "Q9q9DSPkzkKi"
      },
      "source": [
        "3.2. Now, define a harmonic signal, `y` whose fundamental frequency is the defined in Lab 1. Go step by step adding a new harmonic in each step. Plot both signals (the reference and the synthesized) and try to reproduce the shape of the reference signal.\n",
        "\n",
        "**Note 1**: in order to have a similar shape, we need to select the amplitudes and phases carefully. One way to do this is to define the harmonic signal as follows:\n",
        "\n",
        "$$y(t) = \\sum_{k=1}^K A_k\\cos\\left(2\\pi kf_0 t + k \\phi - (k-1)\\pi/2 \\right), $$\n",
        "\n",
        "where $K$ is the number of harmonics, $f_0$ is the fundamental frequency, $A_k$ is the amplitude (weight) of each harmonic and $\\phi$ is the phase of the signal (defined in Lab1 Ex 2.4).\n",
        "\n",
        "**Note 2**:\n",
        "Define the $A_k$ values relative to the fundamental frequency. This means to define $A_1=1$ and the others less than 1. You can use Audacity to plot the spectrum of the fragment selected of the reference audio and measure the relative amplitudes of the harmonics.\n",
        "\n",
        "**Note 3**: Normalize the amplitude of the signal by the same amplitude of the reference. For instance, if the amplitude of the reference signal is 0.33, you can normalize the syntesized signal by first dividing by its maximum and then multiplyng by 0.33:\n",
        "\n",
        "```\n",
        "y = 0.33 * y / np.amax(y)\n",
        "```"
      ]
    },
    {
      "cell_type": "code",
      "execution_count": null,
      "metadata": {
        "id": "-1LHtBuyZ9q6"
      },
      "outputs": [],
      "source": [
        "# Write the code here"
      ]
    },
    {
      "cell_type": "markdown",
      "metadata": {
        "id": "FFOPYFkn3fmh"
      },
      "source": [
        "3.3. Listen to the synthtesis and remark what are the main differences between the reference and synthesis."
      ]
    },
    {
      "cell_type": "code",
      "execution_count": null,
      "metadata": {
        "id": "Jztm9rOd3etP"
      },
      "outputs": [],
      "source": [
        "Audio(y, rate=fs)"
      ]
    },
    {
      "cell_type": "markdown",
      "metadata": {
        "id": "2S9SR2Ev3lZn"
      },
      "source": [
        "[Double click to enter your answer]"
      ]
    }
  ],
  "metadata": {
    "colab": {
      "provenance": [],
      "include_colab_link": true
    },
    "kernelspec": {
      "display_name": "Python 3",
      "name": "python3"
    },
    "language_info": {
      "name": "python"
    }
  },
  "nbformat": 4,
  "nbformat_minor": 0
}